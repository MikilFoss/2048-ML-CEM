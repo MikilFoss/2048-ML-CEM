{
 "cells": [
  {
   "cell_type": "code",
   "execution_count": 2,
   "metadata": {},
   "outputs": [],
   "source": [
    "import MyFlow as mf\n",
    "import numpy as np\n",
    "import Enviornment\n",
    "from tqdm import tqdm\n",
    "import testEnv\n",
    "from IPython.display import clear_output\n",
    "import time"
   ]
  },
  {
   "cell_type": "code",
   "execution_count": 3,
   "metadata": {},
   "outputs": [],
   "source": [
    "env = Enviornment.Space2048()"
   ]
  },
  {
   "cell_type": "code",
   "execution_count": 7,
   "metadata": {},
   "outputs": [],
   "source": [
    "t = mf.GeneticTrainer(env,100,[512,512],[np.tanh,np.tanh,np.tanh,np.tanh],25000,0.1,20,50,1)"
   ]
  },
  {
   "cell_type": "code",
   "execution_count": 8,
   "metadata": {},
   "outputs": [],
   "source": [
    "t.num_threads = 4"
   ]
  },
  {
   "cell_type": "markdown",
   "metadata": {},
   "source": [
    "40 games - 256 pop\n",
    "No threads 48.9\n",
    "2 threads = 24.75\n",
    "4 threads = 13.95\n",
    "8 threads = 12.18\n",
    "16 threads = 14.4\n",
    "\n",
    "80 games - 256 pop\n",
    "No threads = ?\n",
    "2 threads = 48.9\n",
    "4 threads = 26.95\n",
    "8 threads = 22.65\n",
    "16 threads = 24.85\n",
    "\n",
    "40 games - 512 pop\n",
    "No threads = ?\n",
    "2 threads = 49.15\n",
    "4 threads = 28.48\n",
    "8 threads = 24.4\n",
    "16 threads = 27.34"
   ]
  },
  {
   "cell_type": "code",
   "execution_count": 10,
   "metadata": {},
   "outputs": [
    {
     "name": "stdout",
     "output_type": "stream",
     "text": [
      "Generation:  45  Top Score:  1612  Time:  13.162776947021484\n"
     ]
    },
    {
     "name": "stderr",
     "output_type": "stream",
     "text": [
      "100%|██████████| 50/50 [07:06<00:00,  8.53s/it]\n"
     ]
    },
    {
     "data": {
      "image/png": "[encoded data removed]",
      "text/plain": [
       "<Figure size 640x480 with 1 Axes>"
      ]
     },
     "metadata": {},
     "output_type": "display_data"
    }
   ],
   "source": [
    "agents = t.train(True,freq=5)"
   ]
  },
  {
   "cell_type": "code",
   "execution_count": 45,
   "metadata": {},
   "outputs": [],
   "source": [
    "top = agents[0]"
   ]
  },
  {
   "cell_type": "code",
   "execution_count": 48,
   "metadata": {},
   "outputs": [
    {
     "name": "stdout",
     "output_type": "stream",
     "text": [
      "[2, 8, 2, 4]\n",
      "[8, 16, 4, 16]\n",
      "[16, 2, 16, 64]\n",
      "[4, 8, 64, 2]\n",
      "\n",
      "\n",
      "[2, 8, 2, 4]\n",
      "[8, 16, 4, 16]\n",
      "[16, 2, 16, 64]\n",
      "[4, 8, 64, 2]\n",
      "\n",
      "\n",
      "[2, 8, 2, 4]\n",
      "[8, 16, 4, 16]\n",
      "[16, 2, 16, 64]\n",
      "[4, 8, 64, 2]\n",
      "\n",
      "\n",
      "[2, 8, 2, 4]\n",
      "[8, 16, 4, 16]\n",
      "[16, 2, 16, 64]\n",
      "[4, 8, 64, 2]\n",
      "\n",
      "\n"
     ]
    }
   ],
   "source": [
    "myenv = Enviornment.Space2048()\n",
    "play_good_agent(top)"
   ]
  },
  {
   "cell_type": "code",
   "execution_count": 49,
   "metadata": {},
   "outputs": [
    {
     "name": "stdout",
     "output_type": "stream",
     "text": [
      "[2, 8, 2, 4]\n",
      "[8, 16, 4, 16]\n",
      "[16, 2, 16, 64]\n",
      "[4, 8, 64, 2]\n",
      "\n",
      "\n"
     ]
    }
   ],
   "source": [
    "myenv.currentgame.printBoard()"
   ]
  },
  {
   "cell_type": "code",
   "execution_count": 47,
   "metadata": {},
   "outputs": [],
   "source": [
    "def play_good_agent(agent):\n",
    "    isover, state, reward = myenv.reset()\n",
    "    while not isover:\n",
    "        myenv.currentgame.printBoard()\n",
    "        time.sleep(0.1)\n",
    "        clear_output(wait=True)\n",
    "        actionprobs = agent.network.calculate(state)\n",
    "        isover, newstate, reward = myenv.step(actionprobs)\n",
    "        step = 0\n",
    "        while state == newstate and step < 10:\n",
    "            actionprobs[np.argmax(actionprobs)] = 0\n",
    "            isover, newstate, reward = myenv.step(actionprobs)\n",
    "            step += 1\n",
    "        state = newstate\n",
    "    myenv.currentgame.printBoard()\n",
    "    myenv.currentgame.printBoard()\n",
    "    myenv.currentgame.printBoard()\n",
    "    myenv.currentgame.printBoard()"
   ]
  }
 ],
 "metadata": {
  "kernelspec": {
   "display_name": "Python 3.9.7 ('base')",
   "language": "python",
   "name": "python3"
  },
  "language_info": {
   "codemirror_mode": {
    "name": "ipython",
    "version": 3
   },
   "file_extension": ".py",
   "mimetype": "text/x-python",
   "name": "python",
   "nbconvert_exporter": "python",
   "pygments_lexer": "ipython3",
   "version": "3.9.7"
  },
  "orig_nbformat": 4,
  "vscode": {
   "interpreter": {
    "hash": "601ec82c55b35e98fa7bc4faee41b58f50d8ac913a63030547dfde8b5ad66cf9"
   }
  }
 },
 "nbformat": 4,
 "nbformat_minor": 2
}
